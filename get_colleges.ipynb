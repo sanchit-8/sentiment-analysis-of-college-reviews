{
 "cells": [
  {
   "cell_type": "code",
   "execution_count": 2,
   "metadata": {},
   "outputs": [],
   "source": [
    "from pymongo import MongoClient \n",
    "import pandas as pd\n",
    "\n",
    "# open connection\n",
    "#connection = MongoClient()\n",
    "\n",
    "# get db\n",
    "#db = connection.minor"
   ]
  },
  {
   "cell_type": "code",
   "execution_count": 3,
   "metadata": {},
   "outputs": [],
   "source": [
    "def get_colleges():\n",
    "    connection = MongoClient()\n",
    "    database_name = 'minor'\n",
    "    database = connection[database_name]\n",
    "    collection = database.collection_names(include_system_collections=False)\n",
    "    for collect in collection:\n",
    "        print (collect)\n",
    "    return(collection)"
   ]
  }
 ],
 "metadata": {
  "kernelspec": {
   "display_name": "Python 3",
   "language": "python",
   "name": "python3"
  },
  "language_info": {
   "codemirror_mode": {
    "name": "ipython",
    "version": 3
   },
   "file_extension": ".py",
   "mimetype": "text/x-python",
   "name": "python",
   "nbconvert_exporter": "python",
   "pygments_lexer": "ipython3",
   "version": "3.6.8"
  }
 },
 "nbformat": 4,
 "nbformat_minor": 2
}
