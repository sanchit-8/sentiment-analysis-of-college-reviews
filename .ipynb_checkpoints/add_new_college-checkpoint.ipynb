{
 "cells": [
  {
   "cell_type": "code",
   "execution_count": 1,
   "metadata": {},
   "outputs": [
    {
     "name": "stdout",
     "output_type": "stream",
     "text": [
      "importing Jupyter notebook from career360final.ipynb\n",
      "importing Jupyter notebook from mouthshutfinal.ipynb\n",
      "importing Jupyter notebook from shikhsa_work_under_progress.ipynb\n"
     ]
    },
    {
     "name": "stderr",
     "output_type": "stream",
     "text": [
      "shikhsa_work_under_progress.ipynb:6: UserWarning: No parser was explicitly specified, so I'm using the best available HTML parser for this system (\"lxml\"). This usually isn't a problem, but if you run this code on another system, or in a different virtual environment, it may use a different parser and behave differently.\n",
      "\n",
      "The code that caused this warning is on line 6 of the file shikhsa_work_under_progress.ipynb. To get rid of this warning, pass the additional argument 'features=\"lxml\"' to the BeautifulSoup constructor.\n",
      "\n",
      "  \"metadata\": {},\n"
     ]
    },
    {
     "name": "stdout",
     "output_type": "stream",
     "text": [
      "importing Jupyter notebook from college_dunia.ipynb\n",
      "importing Jupyter notebook from segregation.ipynb\n"
     ]
    },
    {
     "name": "stderr",
     "output_type": "stream",
     "text": [
      "/home/sanchit/.local/lib/python3.6/site-packages/sklearn/ensemble/forest.py:245: FutureWarning: The default value of n_estimators will change from 10 in version 0.20 to 100 in 0.22.\n",
      "  \"10 in version 0.20 to 100 in 0.22.\", FutureWarning)\n",
      "/home/sanchit/.local/lib/python3.6/site-packages/sklearn/linear_model/logistic.py:432: FutureWarning: Default solver will be changed to 'lbfgs' in 0.22. Specify a solver to silence this warning.\n",
      "  FutureWarning)\n",
      "/home/sanchit/.local/lib/python3.6/site-packages/sklearn/linear_model/logistic.py:469: FutureWarning: Default multi_class will be changed to 'auto' in 0.22. Specify the multi_class option to silence this warning.\n",
      "  \"this warning.\", FutureWarning)\n",
      "/home/sanchit/.local/lib/python3.6/site-packages/sklearn/linear_model/logistic.py:432: FutureWarning: Default solver will be changed to 'lbfgs' in 0.22. Specify a solver to silence this warning.\n",
      "  FutureWarning)\n",
      "/home/sanchit/.local/lib/python3.6/site-packages/sklearn/linear_model/logistic.py:469: FutureWarning: Default multi_class will be changed to 'auto' in 0.22. Specify the multi_class option to silence this warning.\n",
      "  \"this warning.\", FutureWarning)\n",
      "[nltk_data] Downloading package punkt to /home/sanchit/nltk_data...\n",
      "[nltk_data]   Package punkt is already up-to-date!\n"
     ]
    },
    {
     "name": "stdout",
     "output_type": "stream",
     "text": [
      "importing Jupyter notebook from evaluation.ipynb\n"
     ]
    }
   ],
   "source": [
    "import import_ipynb\n",
    "import requests\n",
    "import pandas as pd\n",
    "from bs4 import BeautifulSoup\n",
    "import requests\n",
    "import urllib.request, urllib.parse,urllib.error\n",
    "\n",
    "try: \n",
    "    from googlesearch import search \n",
    "except ImportError:  \n",
    "    print(\"No module named 'google' found\") \n",
    "import pandas as pd\n",
    "from bs4 import BeautifulSoup\n",
    "import requests\n",
    "\n",
    "\n",
    "from pymongo import MongoClient\n",
    "import csv\n",
    "\n",
    "\n",
    "import career360final as career\n",
    "import mouthshutfinal as mouth\n",
    "import shikhsa_work_under_progress as shiksha\n",
    "import college_dunia as college\n",
    "\n",
    "import segregation as sg      \n",
    "import evaluation as el"
   ]
  },
  {
   "cell_type": "code",
   "execution_count": 2,
   "metadata": {},
   "outputs": [],
   "source": [
    "def func(query):\n",
    "    print(query)\n",
    "    dfcareer=pd.DataFrame(columns=('Website','Title','Review','Placement','Infrastructure','Faculty','Social','Other','Label','Rating'))\n",
    "    dfshiksha=pd.DataFrame(columns=('Website','Title','Review','Placement','Infrastructure','Faculty','Social','Other','Label','Rating'))\n",
    "    dfcollege=pd.DataFrame(columns=('Website','Title','Review','Placement','Infrastructure','Faculty','Social','Other','Label','Rating'))\n",
    "    dfmouthshut=pd.DataFrame(columns=('Website','Title','Review','Placement','Infrastructure','Faculty','Social','Other','Label','Rating'))\n",
    "    dffinal=pd.DataFrame(columns=('Website','Title','Review','Placement','Infrastructure','Faculty','Social','Other','Label','Rating'))\n",
    "    #print(dffinal,dfcareer)\n",
    "    aflag=0\n",
    "    sflag=0\n",
    "    oflag=0\n",
    "    mflag=0\n",
    "    list2=[]\n",
    "    #print(search(query, tld=\"co.in\", num=100,start=0, stop=20, pause=1))\n",
    "    for j in search(query, tld=\"co.in\", num=100,start=0, stop=10, pause=1):      \n",
    "        if(j.find('www.shiksha.com')>0 and sflag==0):\n",
    "            #print('enter shiksha')\n",
    "            #print(j)\n",
    "            dfshiksha=shiksha.callfunc(j)\n",
    "            #print(j) \n",
    "            sflag=1\n",
    "        elif(j.find('www.careers360.com')>0 and aflag==0):\n",
    "            #print('enter career')\n",
    "            dfcareer=career.callfun(j)\n",
    "            #print(j)\n",
    "            aflag=1\n",
    "        elif(j.find('collegedunia.com')>0 and oflag==0):\n",
    "            #print('enter college')\n",
    "            dfcollege=college.college_dunia(j)\n",
    "            #print(j) \n",
    "            oflag=1\n",
    "        elif(j.find('mouthshut.com')>0 and mflag==0):\n",
    "            #print('enter mouthshut')\n",
    "            dfmouthshut=mouth.callfunc(j)\n",
    "            #print(j)\n",
    "            mflag=1\n",
    "        \n",
    "    dffinal=dffinal.append(dfcareer,ignore_index=True)\n",
    "    dffinal=dffinal.append(dfmouthshut,ignore_index=True)\n",
    "    dffinal=dffinal.append(dfshiksha,ignore_index=True)\n",
    "    dffinal=dffinal.append(dfcollege,ignore_index=True)\n",
    "    #query1=\"C:\\\\Users\\\\Meenal\\\\csvfiles\\\\\" + query +\".csv\"\n",
    "    #dffinal.to_csv(query1, index=False, encoding='utf-8-sig')\n",
    "    #df=dffinal\n",
    "    \n",
    "    \n",
    "    #print(\"over\")\n",
    "    return(dffinal)"
   ]
  },
  {
   "cell_type": "code",
   "execution_count": 3,
   "metadata": {},
   "outputs": [],
   "source": [
    "def dhundo(college_name):\n",
    "    query=college_name+\" college reviews\"\n",
    "    dffinal=func(query)\n",
    "    #print(j)\n",
    "    #print(dffinal)\n",
    "    # build a new client instance for MongoClient\n",
    "    connection = MongoClient('localhost', 27017)\n",
    "    db = connection.minor\n",
    "    collection = db[query] \n",
    "\n",
    "\n",
    "\n",
    "    for i in range(len(dffinal)):\n",
    "        #print(i)\n",
    "        row=dffinal.loc[i]\n",
    "        data_dict = row.to_dict()\n",
    "        rec_id = collection.insert_one(data_dict)\n",
    "        \n",
    "        \n",
    "    #fl.segregate    \n",
    "    sg.segregate(query)    \n",
    "    el.evaluate(query)\n",
    "    \n",
    "    \n",
    "    \n",
    "    \n",
    "        "
   ]
  },
  {
   "cell_type": "code",
   "execution_count": null,
   "metadata": {},
   "outputs": [],
   "source": []
  }
 ],
 "metadata": {
  "kernelspec": {
   "display_name": "Python 3",
   "language": "python",
   "name": "python3"
  },
  "language_info": {
   "codemirror_mode": {
    "name": "ipython",
    "version": 3
   },
   "file_extension": ".py",
   "mimetype": "text/x-python",
   "name": "python",
   "nbconvert_exporter": "python",
   "pygments_lexer": "ipython3",
   "version": "3.6.8"
  }
 },
 "nbformat": 4,
 "nbformat_minor": 2
}
