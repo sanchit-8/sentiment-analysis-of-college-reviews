{
 "cells": [
  {
   "cell_type": "code",
   "execution_count": 1,
   "metadata": {},
   "outputs": [],
   "source": [
    "import pandas as pd\n",
    "#import matplotlib.pyplot as plt\n",
    "#import seaborn as sn\n",
    "import nltk \n",
    "import re\n",
    "from sklearn.feature_selection import chi2\n",
    "import numpy as np\n",
    "from nltk.corpus import stopwords \n",
    "from nltk.tokenize import word_tokenize \n",
    "from nltk import tokenize\n",
    "from sklearn.model_selection import train_test_split\n",
    "from sklearn.feature_extraction.text import CountVectorizer\n",
    "from sklearn.feature_extraction.text import TfidfTransformer\n",
    "#rom sklearn.feature_extraction.text import CountVectorizer\n",
    "#from sklearn.feature_extraction.text import TfidfTransformer\n",
    "from sklearn.feature_extraction.text import TfidfVectorizer\n",
    "from sklearn import metrics\n",
    "from sklearn.datasets import load_files\n",
    "from sklearn.naive_bayes import MultinomialNB\n",
    "from sklearn.metrics import accuracy_score\n",
    "from sklearn.ensemble import RandomForestClassifier\n",
    "from sklearn.linear_model import LogisticRegression\n",
    "from sklearn.svm import LinearSVC\n",
    "from sklearn.metrics import confusion_matrix\n",
    "from sklearn.model_selection import cross_val_score\n",
    "from vaderSentiment.vaderSentiment import SentimentIntensityAnalyzer\n",
    "import pipelines"
   ]
  },
  {
   "cell_type": "code",
   "execution_count": 2,
   "metadata": {},
   "outputs": [],
   "source": [
    "df=pd.read_csv(\"sep.csv\")"
   ]
  },
  {
   "cell_type": "code",
   "execution_count": 3,
   "metadata": {},
   "outputs": [
    {
     "data": {
      "text/html": [
       "<div>\n",
       "<style scoped>\n",
       "    .dataframe tbody tr th:only-of-type {\n",
       "        vertical-align: middle;\n",
       "    }\n",
       "\n",
       "    .dataframe tbody tr th {\n",
       "        vertical-align: top;\n",
       "    }\n",
       "\n",
       "    .dataframe thead th {\n",
       "        text-align: right;\n",
       "    }\n",
       "</style>\n",
       "<table border=\"1\" class=\"dataframe\">\n",
       "  <thead>\n",
       "    <tr style=\"text-align: right;\">\n",
       "      <th></th>\n",
       "      <th>Unnamed: 0</th>\n",
       "      <th>Review</th>\n",
       "      <th>Label</th>\n",
       "    </tr>\n",
       "  </thead>\n",
       "  <tbody>\n",
       "    <tr>\n",
       "      <th>0</th>\n",
       "      <td>0</td>\n",
       "      <td>Faculty members are cooperative and are highly...</td>\n",
       "      <td>faculty</td>\n",
       "    </tr>\n",
       "    <tr>\n",
       "      <th>1</th>\n",
       "      <td>1</td>\n",
       "      <td>The teachers are highly educated, very knowled...</td>\n",
       "      <td>faculty</td>\n",
       "    </tr>\n",
       "    <tr>\n",
       "      <th>2</th>\n",
       "      <td>2</td>\n",
       "      <td>Well the teachers are a mixed sort as usual. S...</td>\n",
       "      <td>faculty</td>\n",
       "    </tr>\n",
       "    <tr>\n",
       "      <th>3</th>\n",
       "      <td>3</td>\n",
       "      <td>One thing good about the college is that here ...</td>\n",
       "      <td>faculty</td>\n",
       "    </tr>\n",
       "    <tr>\n",
       "      <th>4</th>\n",
       "      <td>4</td>\n",
       "      <td>Yes the teacher s are helpful. They do their b...</td>\n",
       "      <td>faculty</td>\n",
       "    </tr>\n",
       "    <tr>\n",
       "      <th>...</th>\n",
       "      <td>...</td>\n",
       "      <td>...</td>\n",
       "      <td>...</td>\n",
       "    </tr>\n",
       "    <tr>\n",
       "      <th>70434</th>\n",
       "      <td>21570</td>\n",
       "      <td></td>\n",
       "      <td>placement</td>\n",
       "    </tr>\n",
       "    <tr>\n",
       "      <th>70435</th>\n",
       "      <td>21571</td>\n",
       "      <td></td>\n",
       "      <td>placement</td>\n",
       "    </tr>\n",
       "    <tr>\n",
       "      <th>70436</th>\n",
       "      <td>21572</td>\n",
       "      <td></td>\n",
       "      <td>placement</td>\n",
       "    </tr>\n",
       "    <tr>\n",
       "      <th>70437</th>\n",
       "      <td>21573</td>\n",
       "      <td></td>\n",
       "      <td>placement</td>\n",
       "    </tr>\n",
       "    <tr>\n",
       "      <th>70438</th>\n",
       "      <td>21574</td>\n",
       "      <td></td>\n",
       "      <td>placement</td>\n",
       "    </tr>\n",
       "  </tbody>\n",
       "</table>\n",
       "<p>70439 rows × 3 columns</p>\n",
       "</div>"
      ],
      "text/plain": [
       "       Unnamed: 0                                             Review  \\\n",
       "0               0  Faculty members are cooperative and are highly...   \n",
       "1               1  The teachers are highly educated, very knowled...   \n",
       "2               2  Well the teachers are a mixed sort as usual. S...   \n",
       "3               3  One thing good about the college is that here ...   \n",
       "4               4  Yes the teacher s are helpful. They do their b...   \n",
       "...           ...                                                ...   \n",
       "70434       21570                                                      \n",
       "70435       21571                                                      \n",
       "70436       21572                                                      \n",
       "70437       21573                                                      \n",
       "70438       21574                                                      \n",
       "\n",
       "           Label  \n",
       "0        faculty  \n",
       "1        faculty  \n",
       "2        faculty  \n",
       "3        faculty  \n",
       "4        faculty  \n",
       "...          ...  \n",
       "70434  placement  \n",
       "70435  placement  \n",
       "70436  placement  \n",
       "70437  placement  \n",
       "70438  placement  \n",
       "\n",
       "[70439 rows x 3 columns]"
      ]
     },
     "execution_count": 3,
     "metadata": {},
     "output_type": "execute_result"
    }
   ],
   "source": [
    "df"
   ]
  },
  {
   "cell_type": "code",
   "execution_count": 4,
   "metadata": {},
   "outputs": [],
   "source": [
    "from io import StringIO\n",
    "col = ['Label', 'Review']\n",
    "df = df[col]\n",
    "#df = df[pd.notnull(df['Review'])]\n",
    "#df.columns = ['Label', 'Review'].cursor= database[x].find()\n",
    "#df =  pd.DataFrame(list(cursor))\n",
    "#df\n",
    "df['category_id'] = df['Label'].factorize()[0]\n",
    "category_id_df = df[['Label', 'category_id']].drop_duplicates().sort_values('category_id')\n",
    "category_to_id = dict(category_id_df.values)\n",
    "id_to_category = dict(category_id_df[['category_id', 'Label']].values)"
   ]
  },
  {
   "cell_type": "code",
   "execution_count": 5,
   "metadata": {},
   "outputs": [
    {
     "data": {
      "text/html": [
       "<div>\n",
       "<style scoped>\n",
       "    .dataframe tbody tr th:only-of-type {\n",
       "        vertical-align: middle;\n",
       "    }\n",
       "\n",
       "    .dataframe tbody tr th {\n",
       "        vertical-align: top;\n",
       "    }\n",
       "\n",
       "    .dataframe thead th {\n",
       "        text-align: right;\n",
       "    }\n",
       "</style>\n",
       "<table border=\"1\" class=\"dataframe\">\n",
       "  <thead>\n",
       "    <tr style=\"text-align: right;\">\n",
       "      <th></th>\n",
       "      <th>Label</th>\n",
       "      <th>Review</th>\n",
       "      <th>category_id</th>\n",
       "    </tr>\n",
       "  </thead>\n",
       "  <tbody>\n",
       "    <tr>\n",
       "      <th>0</th>\n",
       "      <td>faculty</td>\n",
       "      <td>Faculty members are cooperative and are highly...</td>\n",
       "      <td>0</td>\n",
       "    </tr>\n",
       "    <tr>\n",
       "      <th>1</th>\n",
       "      <td>faculty</td>\n",
       "      <td>The teachers are highly educated, very knowled...</td>\n",
       "      <td>0</td>\n",
       "    </tr>\n",
       "    <tr>\n",
       "      <th>2</th>\n",
       "      <td>faculty</td>\n",
       "      <td>Well the teachers are a mixed sort as usual. S...</td>\n",
       "      <td>0</td>\n",
       "    </tr>\n",
       "    <tr>\n",
       "      <th>3</th>\n",
       "      <td>faculty</td>\n",
       "      <td>One thing good about the college is that here ...</td>\n",
       "      <td>0</td>\n",
       "    </tr>\n",
       "    <tr>\n",
       "      <th>4</th>\n",
       "      <td>faculty</td>\n",
       "      <td>Yes the teacher s are helpful. They do their b...</td>\n",
       "      <td>0</td>\n",
       "    </tr>\n",
       "    <tr>\n",
       "      <th>...</th>\n",
       "      <td>...</td>\n",
       "      <td>...</td>\n",
       "      <td>...</td>\n",
       "    </tr>\n",
       "    <tr>\n",
       "      <th>70434</th>\n",
       "      <td>placement</td>\n",
       "      <td></td>\n",
       "      <td>3</td>\n",
       "    </tr>\n",
       "    <tr>\n",
       "      <th>70435</th>\n",
       "      <td>placement</td>\n",
       "      <td></td>\n",
       "      <td>3</td>\n",
       "    </tr>\n",
       "    <tr>\n",
       "      <th>70436</th>\n",
       "      <td>placement</td>\n",
       "      <td></td>\n",
       "      <td>3</td>\n",
       "    </tr>\n",
       "    <tr>\n",
       "      <th>70437</th>\n",
       "      <td>placement</td>\n",
       "      <td></td>\n",
       "      <td>3</td>\n",
       "    </tr>\n",
       "    <tr>\n",
       "      <th>70438</th>\n",
       "      <td>placement</td>\n",
       "      <td></td>\n",
       "      <td>3</td>\n",
       "    </tr>\n",
       "  </tbody>\n",
       "</table>\n",
       "<p>70439 rows × 3 columns</p>\n",
       "</div>"
      ],
      "text/plain": [
       "           Label                                             Review  \\\n",
       "0        faculty  Faculty members are cooperative and are highly...   \n",
       "1        faculty  The teachers are highly educated, very knowled...   \n",
       "2        faculty  Well the teachers are a mixed sort as usual. S...   \n",
       "3        faculty  One thing good about the college is that here ...   \n",
       "4        faculty  Yes the teacher s are helpful. They do their b...   \n",
       "...          ...                                                ...   \n",
       "70434  placement                                                      \n",
       "70435  placement                                                      \n",
       "70436  placement                                                      \n",
       "70437  placement                                                      \n",
       "70438  placement                                                      \n",
       "\n",
       "       category_id  \n",
       "0                0  \n",
       "1                0  \n",
       "2                0  \n",
       "3                0  \n",
       "4                0  \n",
       "...            ...  \n",
       "70434            3  \n",
       "70435            3  \n",
       "70436            3  \n",
       "70437            3  \n",
       "70438            3  \n",
       "\n",
       "[70439 rows x 3 columns]"
      ]
     },
     "execution_count": 5,
     "metadata": {},
     "output_type": "execute_result"
    }
   ],
   "source": [
    "df"
   ]
  },
  {
   "cell_type": "code",
   "execution_count": 6,
   "metadata": {},
   "outputs": [
    {
     "data": {
      "text/plain": [
       "0        Faculty members are cooperative and are highly...\n",
       "1        The teachers are highly educated, very knowled...\n",
       "2        Well the teachers are a mixed sort as usual. S...\n",
       "3        One thing good about the college is that here ...\n",
       "4        Yes the teacher s are helpful. They do their b...\n",
       "                               ...                        \n",
       "70434                                                     \n",
       "70435                                                     \n",
       "70436                                                     \n",
       "70437                                                     \n",
       "70438                                                     \n",
       "Name: Review, Length: 70439, dtype: object"
      ]
     },
     "execution_count": 6,
     "metadata": {},
     "output_type": "execute_result"
    }
   ],
   "source": [
    "df.Review"
   ]
  },
  {
   "cell_type": "code",
   "execution_count": 7,
   "metadata": {},
   "outputs": [
    {
     "data": {
      "text/plain": [
       "(70439, 56107)"
      ]
     },
     "execution_count": 7,
     "metadata": {},
     "output_type": "execute_result"
    }
   ],
   "source": [
    "from sklearn.feature_extraction.text import TfidfVectorizer\n",
    "tfidf = TfidfVectorizer(sublinear_tf=True, min_df=5, norm='l2', encoding='latin-1', ngram_range=(1, 2), stop_words='english')\n",
    "#x = v.fit_transform(df['Review'].values.astype('U'))  ## Even astype(str) would work\n",
    "\n",
    "features = tfidf.fit_transform(df.Review.values.astype('U'))\n",
    "labels = df.category_id\n",
    "features.shape"
   ]
  },
  {
   "cell_type": "code",
   "execution_count": null,
   "metadata": {},
   "outputs": [],
   "source": []
  },
  {
   "cell_type": "code",
   "execution_count": 8,
   "metadata": {},
   "outputs": [],
   "source": [
    "N = 2\n",
    "for Category, category_id in sorted(category_to_id.items()):\n",
    "    features_chi2 = chi2(features, labels == category_id)\n",
    "    indices = np.argsort(features_chi2[0])\n",
    "    feature_names = np.array(tfidf.get_feature_names())[indices]\n",
    "    unigrams = [v for v in feature_names if len(v.split(' ')) == 1]\n",
    "    bigrams = [v for v in feature_names if len(v.split(' ')) == 2]\n",
    "    trigrams = [v for v in feature_names if len(v.split(' ')) == 3]\n",
    "    #print(\"# '{}':\".format(Category))\n",
    "    #print(\"  . Most correlated unigrams:\\n. {}\".format('\\n. '.join(unigrams[-N:])))\n",
    "    #print(\"  . Most correlated bigrams:\\n. {}\".format('\\n. '.join(bigrams[-N:])))\n",
    "    #print(\"  . Most correlated trigrams:\\n. {}\".format('\\n. '.join(trigrams[-N:])))"
   ]
  },
  {
   "cell_type": "code",
   "execution_count": 9,
   "metadata": {},
   "outputs": [],
   "source": [
    "x=[]\n",
    "col=df[\"Review\"]\n",
    "for text in col:\n",
    "    x.append(text)\n",
    "y=[]\n",
    "col=df[\"Label\"]\n",
    "for text in col:\n",
    "    y.append(text)"
   ]
  },
  {
   "cell_type": "code",
   "execution_count": 10,
   "metadata": {},
   "outputs": [
    {
     "name": "stderr",
     "output_type": "stream",
     "text": [
      "/home/sanchit/.local/lib/python3.6/site-packages/sklearn/ensemble/forest.py:245: FutureWarning: The default value of n_estimators will change from 10 in version 0.20 to 100 in 0.22.\n",
      "  \"10 in version 0.20 to 100 in 0.22.\", FutureWarning)\n",
      "/home/sanchit/.local/lib/python3.6/site-packages/sklearn/linear_model/logistic.py:432: FutureWarning: Default solver will be changed to 'lbfgs' in 0.22. Specify a solver to silence this warning.\n",
      "  FutureWarning)\n",
      "/home/sanchit/.local/lib/python3.6/site-packages/sklearn/linear_model/logistic.py:469: FutureWarning: Default multi_class will be changed to 'auto' in 0.22. Specify the multi_class option to silence this warning.\n",
      "  \"this warning.\", FutureWarning)\n"
     ]
    }
   ],
   "source": [
    "X_train, X_test, y_train, y_test = train_test_split(df['Review'], df['Label'], random_state = 0)\n",
    "count_vect = CountVectorizer()\n",
    "X_train_counts = count_vect.fit_transform(X_train.values.astype('U'))\n",
    "tfidf_transformer = TfidfTransformer()\n",
    "X_train_tfidf = tfidf_transformer.fit_transform(X_train_counts)\n",
    "clf = MultinomialNB().fit(X_train_tfidf, y_train)\n",
    "clf2 = RandomForestClassifier().fit(X_train_tfidf, y_train)\n",
    "clf3=LogisticRegression().fit(X_train_tfidf, y_train)\n",
    "clf4= LinearSVC().fit(X_train_tfidf, y_train)"
   ]
  },
  {
   "cell_type": "code",
   "execution_count": 11,
   "metadata": {},
   "outputs": [],
   "source": [
    "y_predic=clf.predict(count_vect.transform(X_test.values.astype('U')))#naive-bayes\n",
    "y_predic2=clf2.predict(count_vect.transform(X_test.values.astype('U')))#random-forest\n",
    "y_predic3=clf3.predict(count_vect.transform(X_test.values.astype('U')))#logistic regression\n",
    "y_predic4=clf4.predict(count_vect.transform(X_test.values.astype('U'))) #linear svc"
   ]
  },
  {
   "cell_type": "code",
   "execution_count": 12,
   "metadata": {},
   "outputs": [],
   "source": [
    "results = confusion_matrix(y_test,y_predic)\n",
    "#print(results)#naive-bayes"
   ]
  },
  {
   "cell_type": "code",
   "execution_count": 13,
   "metadata": {},
   "outputs": [],
   "source": [
    "results = confusion_matrix(y_test,y_predic2)\n",
    "#print(results) #random forest"
   ]
  },
  {
   "cell_type": "code",
   "execution_count": 14,
   "metadata": {},
   "outputs": [],
   "source": [
    "results = confusion_matrix(y_test,y_predic3)\n",
    "#print(results) #logistic regression"
   ]
  },
  {
   "cell_type": "code",
   "execution_count": 15,
   "metadata": {},
   "outputs": [],
   "source": [
    "results4 = confusion_matrix(y_test,y_predic4)\n",
    "#print(results) #linear svc"
   ]
  },
  {
   "cell_type": "code",
   "execution_count": 16,
   "metadata": {},
   "outputs": [
    {
     "name": "stderr",
     "output_type": "stream",
     "text": [
      "/home/sanchit/.local/lib/python3.6/site-packages/sklearn/linear_model/logistic.py:432: FutureWarning: Default solver will be changed to 'lbfgs' in 0.22. Specify a solver to silence this warning.\n",
      "  FutureWarning)\n",
      "/home/sanchit/.local/lib/python3.6/site-packages/sklearn/linear_model/logistic.py:469: FutureWarning: Default multi_class will be changed to 'auto' in 0.22. Specify the multi_class option to silence this warning.\n",
      "  \"this warning.\", FutureWarning)\n"
     ]
    }
   ],
   "source": [
    "models = [clf,clf2,clf3,clf4]\n",
    "CV = 5\n",
    "cv_df = pd.DataFrame(index=range(CV * len(models)))\n",
    "entries = []\n",
    "for model in models:\n",
    "  model_name = model.__class__.__name__\n",
    "  accuracies = cross_val_score(model, features, labels, scoring='accuracy', cv=CV)\n",
    "  for fold_idx, accuracy in enumerate(accuracies):\n",
    "    entries.append((model_name, fold_idx, accuracy))\n",
    "cv_df = pd.DataFrame(entries, columns=['model_name', 'fold_idx', 'accuracy'])\n"
   ]
  },
  {
   "cell_type": "code",
   "execution_count": 25,
   "metadata": {},
   "outputs": [
    {
     "data": {
      "text/plain": [
       "['count.pkl']"
      ]
     },
     "execution_count": 25,
     "metadata": {},
     "output_type": "execute_result"
    }
   ],
   "source": [
    "from sklearn.externals import joblib \n",
    "  \n",
    "# Save the model as a pickle in a file \n",
    "joblib.dump(clf, 'filename.pkl') \n",
    "joblib.dump(count_vect,'count.pkl')\n",
    "  \n",
    "# Load the model from the file \n",
    "#knn_from_joblib = joblib.load('filename.pkl')  \n",
    "  \n",
    "# Use the loaded model to make predictions \n",
    "#knn_from_joblib.predict() "
   ]
  },
  {
   "cell_type": "code",
   "execution_count": 17,
   "metadata": {},
   "outputs": [],
   "source": [
    "#cv_df.groupby('model_name').accuracy.mean()"
   ]
  },
  {
   "cell_type": "code",
   "execution_count": 18,
   "metadata": {},
   "outputs": [],
   "source": [
    "from pymongo import MongoClient"
   ]
  },
  {
   "cell_type": "code",
   "execution_count": 19,
   "metadata": {},
   "outputs": [
    {
     "name": "stderr",
     "output_type": "stream",
     "text": [
      "[nltk_data] Downloading package punkt to /home/sanchit/nltk_data...\n",
      "[nltk_data]   Package punkt is already up-to-date!\n"
     ]
    },
    {
     "data": {
      "text/plain": [
       "True"
      ]
     },
     "execution_count": 19,
     "metadata": {},
     "output_type": "execute_result"
    }
   ],
   "source": [
    "nltk.download('punkt')"
   ]
  },
  {
   "cell_type": "code",
   "execution_count": 1,
   "metadata": {},
   "outputs": [],
   "source": [
    "def segregate(query):\n",
    "    connection = MongoClient('localhost', 27017)\n",
    "    db = connection.minor\n",
    "    collection = db[query]\n",
    "    \n",
    "    #print(collection)\n",
    "    cursor=collection.find()\n",
    "    for i in cursor:\n",
    "        x=i['Review']\n",
    "        #print(i)\n",
    "        #x.replace([\"<p>\",\"<br>\",\"-\",\"()\",\"(\",\")\",\"..\",\"...\"],\"\") \n",
    "        l=tokenize.sent_tokenize(x)\n",
    "        #print(l)\n",
    "        a=''\n",
    "        b=''\n",
    "        c=''\n",
    "        d=''\n",
    "        \n",
    "        for sentence in l:\n",
    "            string=clf4.predict(count_vect.transform([sentence]))\n",
    "            #print(string)\n",
    "            if (string==['infrastructure']):\n",
    "                a=a+sentence\n",
    "            \n",
    "            elif (string==['faculty']):\n",
    "                b=b+sentence\n",
    "            \n",
    "            elif (string==['placements']):\n",
    "                c=c+sentence\n",
    "            \n",
    "            elif (string==['social']):\n",
    "                d=d+sentence\n",
    "        #print(\"in\",a)\n",
    "        #print(\"fac\",b)\n",
    "        #print(\"pl\",c)\n",
    "        #print(\"so\",d)\n",
    "        \n",
    "        collection.update_one(\n",
    "            {\"_id\": i[\"_id\"]},\n",
    "            {\n",
    "                \"$set\": {\n",
    "                    \"Faculty\":b,\n",
    "                    \"Infrastructure\":a,\n",
    "                    \"Placement\":c,\n",
    "                    \"Social\":d\n",
    "                }\n",
    "            }\n",
    "        )\n",
    "        "
   ]
  },
  {
   "cell_type": "code",
   "execution_count": 24,
   "metadata": {},
   "outputs": [],
   "source": []
  }
 ],
 "metadata": {
  "kernelspec": {
   "display_name": "Python 3",
   "language": "python",
   "name": "python3"
  },
  "language_info": {
   "codemirror_mode": {
    "name": "ipython",
    "version": 3
   },
   "file_extension": ".py",
   "mimetype": "text/x-python",
   "name": "python",
   "nbconvert_exporter": "python",
   "pygments_lexer": "ipython3",
   "version": "3.6.8"
  }
 },
 "nbformat": 4,
 "nbformat_minor": 2
}
