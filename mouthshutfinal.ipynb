{
 "cells": [
  {
   "cell_type": "code",
   "execution_count": 3,
   "metadata": {},
   "outputs": [],
   "source": [
    "import requests\n",
    "import re\n",
    "from vaderSentiment.vaderSentiment import SentimentIntensityAnalyzer\n",
    "from requests import get\n",
    "from bs4 import BeautifulSoup as BS\n",
    "import pandas as pd\n",
    "Website=\"mouthshut\"\n",
    "Reviews=[]\n",
    "Label=[]\n",
    "Rating=[]\n",
    "Title=[]"
   ]
  },
  {
   "cell_type": "code",
   "execution_count": 4,
   "metadata": {},
   "outputs": [],
   "source": [
    "def mouthshut(str):\n",
    "    soup = BS(requests.get(str).text, \"html.parser\")\n",
    "    ste =' '\n",
    "    for title in soup.select(\"a[id^=ctl00_ctl00_ContentPlaceHolderFooter_ContentPlaceHolderBody_rptreviews_]\"):\n",
    "        #print(title)\n",
    "        items = title.get('href')\n",
    "        if(items!=None):\n",
    "            response=requests.get(items)\n",
    "            content=response.text\n",
    "            soup2=BS(content)\n",
    "            for i in soup2.findAll('div', attrs={\"class\":'rev-main-content'}):\n",
    "                for va in i.findAll('p'):\n",
    "                    ste=ste+va.text\n",
    "                #review=i.p.text\n",
    "                Reviews.append(ste)\n",
    "                #print(ste)\n",
    "                ste=\" \"\n",
    "    start=-2\n",
    "    for var in soup.findAll('div', attrs = {'class':'rating'}):\n",
    "        if start>=0:\n",
    "            count=0\n",
    "            for bas in var.findAll('i', attrs = {'class':'icon-rating rated-star'}):\n",
    "                count+=1\n",
    "            Rating.append(count)\n",
    "            #print(count)\n",
    "        start+=1\n",
    "    for var in soup.findAll('strong'):\n",
    "        for s in var.find_all('a'):\n",
    "            Title.append(s.text)\n",
    "            #print(s.text)\n",
    "    for var in soup.findAll('li', attrs = {'class':'next'}):\n",
    "            str2=var.a['href']\n",
    "            mouthshut(str2)\n"
   ]
  },
  {
   "cell_type": "code",
   "execution_count": 5,
   "metadata": {},
   "outputs": [],
   "source": [
    "def sentiment_scores(sentence): \n",
    "  \n",
    "    # Create a SentimentIntensityAnalyzer object. \n",
    "    sid_obj = SentimentIntensityAnalyzer() \n",
    "  \n",
    "    # polarity_scores method of SentimentIntensityAnalyzer \n",
    "    # oject gives a sentiment dictionary. \n",
    "    # which contains pos, neg, neu, and compound scores. \n",
    "    sentiment_dict = sid_obj.polarity_scores(sentence) \n",
    "      \n",
    "    #print(\"Overall sentiment dictionary is : \", sentiment_dict) \n",
    "    #print(\"sentence was rated as \", sentiment_dict['neg']*100, \"% Negative\") \n",
    "    #print(\"sentence was rated as \", sentiment_dict['neu']*100, \"% Neutral\") \n",
    "    #print(\"sentence was rated as \", sentiment_dict['pos']*100, \"% Positive\") \n",
    "    #\n",
    "    #Label.append(sentiment_dict['neg']*100*-1) \n",
    "    #Label.append(sentiment_dict['neu']*100) \n",
    "    #print(\"sentence was rated as \", sentiment_dict['pos']*100, \"% Positive\") \n",
    "  \n",
    "    #print(\"Sentence Overall Rated As\", end = \" \") \n",
    "  \n",
    "    # decide sentiment as positive, negative and neutral \n",
    "    if sentiment_dict['compound'] >= 0.05 : \n",
    "         Label.append((sentiment_dict['pos']*100))\n",
    "  \n",
    "    elif sentiment_dict['compound'] <= - 0.05 : \n",
    "         Label.append(sentiment_dict['neg']*100*-1)\n",
    "  \n",
    "    else : \n",
    "        Label.append(0) "
   ]
  },
  {
   "cell_type": "code",
   "execution_count": 6,
   "metadata": {},
   "outputs": [],
   "source": [
    "#call from googlescrap file\n",
    "def callfunc(str):\n",
    "    global Reviews\n",
    "    global Label\n",
    "    global Rating\n",
    "    global Title\n",
    "    \n",
    "    Reviews=[]\n",
    "    Label=[]\n",
    "    Rating=[]\n",
    "    Title=[]\n",
    "\n",
    "    mouthshut(str)\n",
    "    #for review in Reviews:\n",
    "    #    sentiment_scores(review)\n",
    "    #print(len(Reviews))\n",
    "    #print(len(Title))\n",
    "    #print(len(Rating))\n",
    "    #print(len(Label))\n",
    "    \n",
    "    #df = pd.DataFrame({'Website':Website,\"Placements\":None,\"Faculty\":None,\"Infrastructure\":None,\"Rating\":None,\"Other\":None,'Review':Reviews,'Label':Label}) \n",
    "    df=pd.DataFrame(columns=('Website','Title','Review','Placement','Infrastructure','Faculty','Social','Other','Label','Rating'))\n",
    "    df=pd.DataFrame({'Website':Website,'Title':Title,'Review':Reviews,'Placement':None,'Infrastructure':None,'Faculty':None,'Social':None,'Other':None,'Label':None,'Rating':Rating})\n",
    "    #df.to_csv('IITD_mouthshut.csv', index=False, encoding='utf-8')\n",
    "    return(df)"
   ]
  },
  {
   "cell_type": "code",
   "execution_count": 7,
   "metadata": {},
   "outputs": [],
   "source": [
    "#callfunc(\"https://www.mouthshut.com/product-reviews/Jaypee-Institute-of-Information-Technology-Noida-reviews-925771668\")"
   ]
  },
  {
   "cell_type": "code",
   "execution_count": null,
   "metadata": {},
   "outputs": [],
   "source": []
  }
 ],
 "metadata": {
  "kernelspec": {
   "display_name": "Python 3",
   "language": "python",
   "name": "python3"
  },
  "language_info": {
   "codemirror_mode": {
    "name": "ipython",
    "version": 3
   },
   "file_extension": ".py",
   "mimetype": "text/x-python",
   "name": "python",
   "nbconvert_exporter": "python",
   "pygments_lexer": "ipython3",
   "version": "3.7.2"
  }
 },
 "nbformat": 4,
 "nbformat_minor": 2
}
