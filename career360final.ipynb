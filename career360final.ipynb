{
 "cells": [
  {
   "cell_type": "code",
   "execution_count": 151,
   "metadata": {},
   "outputs": [],
   "source": [
    "import pandas as pd\n",
    "from bs4 import BeautifulSoup\n",
    "import requests\n",
    "Website=\"career\"\n",
    "Title=[]\n",
    "Review=[]\n",
    "Rating=[]\n",
    "df=pd.DataFrame(columns=('Website','Title','Review','Placement','Infrastructure','Faculty','Social','Other','Label','Rating'))\n"
   ]
  },
  {
   "cell_type": "code",
   "execution_count": 152,
   "metadata": {},
   "outputs": [],
   "source": [
    "\n",
    "def career(str1):\n",
    "    if(str1.find(\"/reviews\")<0):\n",
    "        str1=str1+\"/reviews\"\n",
    "    response = requests.get(str1)\n",
    "    content = response.content\n",
    "    parser = BeautifulSoup(content)\n",
    "    #parser\n",
    "    base(parser)\n",
    "    i=0\n",
    "            \n",
    "    for var in parser.find_all('ul',{'class':'pagination'}):\n",
    "        for b in var.find_all('li'):\n",
    "            for ae in b.find_all('a'):\n",
    "                tex=ae.text\n",
    "                if tex=='Next':\n",
    "                    url=ae['href']\n",
    "                    if(str1.find(\"?page=\")>0):\n",
    "                        val=str1.find(\"?page=\")\n",
    "                        #print(val)\n",
    "                        we=str1[val:]\n",
    "                        str1=str1.replace(we,url)\n",
    "                        #print(str1)\n",
    "                        career(str1)\n",
    "                    elif(str1.find(\"/reviews\")>0):\n",
    "                        str1=str1+url\n",
    "                        #print(str1)\n",
    "                        career(str1)\n",
    "                else:\n",
    "                    break\n",
    "        \n",
    "            "
   ]
  },
  {
   "cell_type": "code",
   "execution_count": 153,
   "metadata": {},
   "outputs": [],
   "source": [
    "def base(parser):\n",
    "    i=0\n",
    "    for ar in parser.find_all('div',{'class':'cardBlk repeatBlk'}):\n",
    "        ba=' '\n",
    "        rat=' '\n",
    "        sr=' '\n",
    "        for a in ar.find_all('div',{'class':'headingContainer'}):\n",
    "            ##review=a.find({'class':'reviewer_review'})\n",
    "            try:\n",
    "                ba=a.h4.text\n",
    "            except:\n",
    "                   break \n",
    "            #print(b)\n",
    "            \n",
    "            #i=i+1\n",
    "            #print(i)\n",
    "\n",
    "            ##review=a.find({'class':'reviewer_review'})\n",
    "        for b in ar.find_all('div',{'class':'ratingOuter'}):\n",
    "            #print(d[0])\n",
    "            c=b.text\n",
    "            d=c.split('Placement')\n",
    "            #print(d[0])\n",
    "            sr=d[0]\n",
    "            sr=sr[1:]\n",
    "            #print(sr)\n",
    "            \n",
    "            #print(\"\\nreview\\n\")\n",
    "            #i=i+1\n",
    "            #print(i)\n",
    "    \n",
    "       \n",
    "        for l in ar.find_all('div',{'class':'rating marginT10'}):\n",
    "            for k in l.find_all('div',{'class':'userRating'}):\n",
    "                s=k.attrs['style']\n",
    "                #print(s.find(':'))\n",
    "                #print(s.find('%'))\n",
    "                re=s[s.find(':')+1:s.find('%')]\n",
    "                rat=int(re)\n",
    "        #print(rat)\n",
    "        Rating.append(rat)\n",
    "        Title.append(ba)\n",
    "        Review.append(sr)"
   ]
  },
  {
   "cell_type": "code",
   "execution_count": 154,
   "metadata": {
    "scrolled": false
   },
   "outputs": [],
   "source": [
    "def callfun(str1):\n",
    "    \n",
    "    global Title\n",
    "    Title.clear()\n",
    "    #print(Title)\n",
    "    global Review\n",
    "    Review.clear()\n",
    "    global Rating\n",
    "    Rating.clear()\n",
    "    #str1=\"https://www.careers360.com/university/jaypee-institute-of-information-technology-noida/reviews\"tea\n",
    "    career(str1)\n",
    "    \n",
    "    #print(len(Rating))\n",
    "    #print(len(Title))\n",
    "    #print(len(Review))\n",
    "    #df=pd.DataFrame(columns=('Title','Review','Rating'))\n",
    "    df=pd.DataFrame(columns=('Website','Title','Review','Placement','Infrastructure','Faculty','Social','Other','Label','Rating'))\n",
    "    df=pd.DataFrame({'Website':Website,'Title':Title,'Review':Review,'Placement':None,'Infrastructure':None,'Faculty':None,'Social':None,'Other':None,'Label':None,'Rating':Rating})\n",
    "\n",
    "    #df=pd.DataFrame({'Title':Title,'Review':Review,'Rating':Rating})\n",
    "    #df.to_csv('JIIT_career.csv', index=False, encoding='utf-8')\n",
    "    #print(df)\n",
    "    \n",
    "    return(df)"
   ]
  },
  {
   "cell_type": "code",
   "execution_count": 155,
   "metadata": {},
   "outputs": [],
   "source": [
    "#d1=pd.DataFrame(columns=('Website','Title','Review','Placement','Infrastructure','Faculty','Social','Other','Label','Rating'))\n"
   ]
  },
  {
   "cell_type": "code",
   "execution_count": 156,
   "metadata": {},
   "outputs": [],
   "source": [
    "#d=callfun('https://www.careers360.com/university/indian-institute-of-technology-kanpur/reviews')\n"
   ]
  },
  {
   "cell_type": "code",
   "execution_count": 157,
   "metadata": {},
   "outputs": [],
   "source": [
    "#d1=d1.append(d)"
   ]
  },
  {
   "cell_type": "code",
   "execution_count": 158,
   "metadata": {},
   "outputs": [],
   "source": [
    "#d1"
   ]
  },
  {
   "cell_type": "code",
   "execution_count": null,
   "metadata": {},
   "outputs": [],
   "source": []
  },
  {
   "cell_type": "code",
   "execution_count": null,
   "metadata": {},
   "outputs": [],
   "source": []
  }
 ],
 "metadata": {
  "kernelspec": {
   "display_name": "Python 3",
   "language": "python",
   "name": "python3"
  },
  "language_info": {
   "codemirror_mode": {
    "name": "ipython",
    "version": 3
   },
   "file_extension": ".py",
   "mimetype": "text/x-python",
   "name": "python",
   "nbconvert_exporter": "python",
   "pygments_lexer": "ipython3",
   "version": "3.7.2"
  }
 },
 "nbformat": 4,
 "nbformat_minor": 2
}
