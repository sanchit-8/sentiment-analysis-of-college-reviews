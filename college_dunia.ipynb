{
 "cells": [
  {
   "cell_type": "code",
   "execution_count": 1,
   "metadata": {},
   "outputs": [],
   "source": [
    "from selenium import webdriver\n",
    "from selenium.webdriver.common.keys import Keys\n",
    "from bs4 import BeautifulSoup\n",
    "import re\n",
    "import pandas as pd\n",
    "import os\n",
    "import time\n",
    "from selenium.common.exceptions import ElementNotVisibleException\n",
    "from selenium.common.exceptions import WebDriverException\n",
    "from selenium.common.exceptions import NoSuchElementException\n",
    "from requests import get\n"
   ]
  },
  {
   "cell_type": "code",
   "execution_count": 6,
   "metadata": {},
   "outputs": [],
   "source": [
    "def college_dunia(str):\n",
    "    driver = webdriver.Chrome()\n",
    "    driver.get(str)\n",
    "    time.sleep(15)\n",
    "    while True:\n",
    "        try:\n",
    "            python_button = driver.find_element_by_id('js-load-reviews')\n",
    "            python_button.click()\n",
    "            time.sleep(10)\n",
    "            #print(\"1\")\n",
    "        except ElementNotVisibleException:\n",
    "            #print(\"hello\")\n",
    "            break \n",
    "        except NoSuchElementException:\n",
    "            #print(\"2\")\n",
    "            python_button = driver.find_element_by_class_name('all_review_count')\n",
    "            python_button.click()\n",
    "        except WebDriverException:\n",
    "            python_button = driver.find_element_by_class_name('close_modal_leadform')\n",
    "            python_button.click()\n",
    "            #print(\"2\")\n",
    "    soup_level1=BeautifulSoup(driver.page_source, 'lxml')\n",
    "    global df2\n",
    "    df2=pd.DataFrame(columns=('Website','Review','Title','Placement','Infrastructure','Faculty','Social','Other','Rating','Label'))\n",
    "    #print(df2)\n",
    "    for link in soup_level1.findAll('a', {'class':'readmore pull-right'}):\n",
    "        str=link['href']\n",
    "        #print(str)\n",
    "        review(str)\n",
    "        #index=index+1\n",
    "        #print(\"\\n\")\n",
    "    return (df2)"
   ]
  },
  {
   "cell_type": "code",
   "execution_count": 7,
   "metadata": {},
   "outputs": [],
   "source": [
    "def review(str):\n",
    "    #print(str)\n",
    "    response2=get(str)\n",
    "    content2=response2.text\n",
    "    parser2=BeautifulSoup(content2)\n",
    "    df=pd.DataFrame(columns=('Website','Review','Title','Placement','Infrastructure','Faculty','Social','Other','Rating','Label'))\n",
    "    \n",
    "    web='Collegedunia'\n",
    "    review=' '\n",
    "    title=''\n",
    "    placement=''\n",
    "    infra=''\n",
    "    fac=''\n",
    "    soc=''\n",
    "    oth=''\n",
    "    rat=''\n",
    "    label=''\n",
    "    \n",
    "    for row in parser2.find_all('div',{'class':'main_body'}):\n",
    "        for t in row.find_all('h3'):\n",
    "            title=t.text\n",
    "            break\n",
    "        break    \n",
    "    \n",
    "    for row in parser2.find_all('div', {'class' : 'in_body'}): \n",
    "        if row.h4.text=='PLACEMENT WING':\n",
    "            placement=row.p.text\n",
    "            review=review+placement\n",
    "        elif row.h4.text=='HOSTEL FACILITIES':\n",
    "            infra=row.p.text\n",
    "            review=review+infra\n",
    "        elif row.h4.text=='FACULTY':\n",
    "            fac=row.p.text\n",
    "            review=review+fac\n",
    "        elif row.h4.text=='CAMPUS LIFE':\n",
    "            soc=row.p.text\n",
    "            review=review+soc\n",
    "        else :\n",
    "            o=row.p.text\n",
    "            oth=oth+o\n",
    "            review=review+o\n",
    "    for row in parser2.find_all('div', {'class':'rating_bar'}):\n",
    "        rat=row.h3.text    \n",
    "    \n",
    "    df.loc[0] = (web,review,title,placement,infra,fac,soc,oth,rat,label)\n",
    "    \n",
    "     \n",
    "    #print(df)\n",
    "    global df2\n",
    "    df2=df2.append(df)\n",
    "    #df2=df2.append(df)\n",
    "    #print(df2)\n",
    "    #arrr = pd.DataFrame(df2)               \n",
    "    #print(arrr)"
   ]
  },
  {
   "cell_type": "code",
   "execution_count": 5,
   "metadata": {},
   "outputs": [],
   "source": [
    "#college_dunia('https://collegedunia.com/college/9743-noida-institute-of-engineering-and-technology-niet-greater-noida/reviews')"
   ]
  },
  {
   "cell_type": "code",
   "execution_count": null,
   "metadata": {},
   "outputs": [],
   "source": []
  },
  {
   "cell_type": "code",
   "execution_count": null,
   "metadata": {},
   "outputs": [],
   "source": []
  }
 ],
 "metadata": {
  "kernelspec": {
   "display_name": "Python 3",
   "language": "python",
   "name": "python3"
  },
  "language_info": {
   "codemirror_mode": {
    "name": "ipython",
    "version": 3
   },
   "file_extension": ".py",
   "mimetype": "text/x-python",
   "name": "python",
   "nbconvert_exporter": "python",
   "pygments_lexer": "ipython3",
   "version": "3.6.8"
  }
 },
 "nbformat": 4,
 "nbformat_minor": 2
}
